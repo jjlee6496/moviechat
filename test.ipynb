{
 "cells": [
  {
   "cell_type": "code",
   "execution_count": 30,
   "metadata": {},
   "outputs": [
    {
     "data": {
      "text/plain": [
       "'The current temperature is -8.9°C'"
      ]
     },
     "execution_count": 30,
     "metadata": {},
     "output_type": "execute_result"
    }
   ],
   "source": [
    "from langchain.chat_models import ChatOpenAI\n",
    "from langchain.tools.render import format_tool_to_openai_function\n",
    "from langchain.prompts import ChatPromptTemplate\n",
    "from utils import get_openai_api_key\n",
    "from Tools.temperature import get_current_temperature\n",
    "from langchain.agents.output_parsers import OpenAIFunctionsAgentOutputParser\n",
    "from langchain.schema.agent import AgentFinish\n",
    "import openai\n",
    "\n",
    "openai.api_key = get_openai_api_key()\n",
    "functions = [\n",
    "        format_tool_to_openai_function(f) for f in [get_current_temperature]\n",
    "]\n",
    "prompt = ChatPromptTemplate.from_messages([\n",
    "    (\"system\", \"You are helpful but sassy assistant.\"),\n",
    "    (\"user\", \"{input}\"),\n",
    "])\n",
    "\n",
    "def route(result):\n",
    "\tif isinstance(result, AgentFinish): # 함수를 쓰지 않기로 결정한다면 -> content 반환\n",
    "\t\treturn result.return_values['output']\n",
    "\telse: # 함수를 쓰기로 결정한다면 -> 함수명에 따라 어떤 함수를 쓸지 결정해주고, argument를 넣은 값 반환\n",
    "\t\ttools = {\n",
    "\t\t\t\"get_current_temperature\": get_current_temperature,\n",
    "\t\t}\n",
    "\t\treturn tools[result.tool].run(result.tool_input)\n",
    "  \n",
    "model = ChatOpenAI(temperature=0).bind(functions=functions)\n",
    "chain = prompt | model | OpenAIFunctionsAgentOutputParser() | route\n",
    "chain.invoke({\"input\":\"서울의 날씨는?\"})"
   ]
  }
 ],
 "metadata": {
  "kernelspec": {
   "display_name": "movie",
   "language": "python",
   "name": "python3"
  },
  "language_info": {
   "codemirror_mode": {
    "name": "ipython",
    "version": 3
   },
   "file_extension": ".py",
   "mimetype": "text/x-python",
   "name": "python",
   "nbconvert_exporter": "python",
   "pygments_lexer": "ipython3",
   "version": "3.10.13"
  }
 },
 "nbformat": 4,
 "nbformat_minor": 2
}
